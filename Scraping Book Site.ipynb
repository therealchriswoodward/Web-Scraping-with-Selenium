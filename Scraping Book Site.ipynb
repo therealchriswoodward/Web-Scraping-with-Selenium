{
 "cells": [
  {
   "cell_type": "markdown",
   "metadata": {},
   "source": [
    "# Webscraping with Selenium\n",
    "***\n",
    "\n",
    "## Goal:\n",
    "***\n",
    "\n",
    "I wanted to show my skills at webscraping information and getting into a useable format for analysis.\n",
    "\n",
    "### Note:\n",
    "***\n",
    "\n",
    "books.toscrape.com is a site specifically for webscraping. I used this as to not violate any terms of service on another site."
   ]
  },
  {
   "cell_type": "code",
   "execution_count": 47,
   "metadata": {},
   "outputs": [],
   "source": [
    "import time\n",
    "from selenium import webdriver\n",
    "from selenium.webdriver.common.by import By\n",
    "import pandas as pd\n",
    "import numpy as np\n",
    "import seaborn as sns\n",
    "import matplotlib.pyplot as plt"
   ]
  },
  {
   "cell_type": "code",
   "execution_count": 20,
   "metadata": {},
   "outputs": [],
   "source": [
    "# Create webdriver\n",
    "driver = webdriver.Firefox()"
   ]
  },
  {
   "cell_type": "code",
   "execution_count": 21,
   "metadata": {},
   "outputs": [],
   "source": [
    "site = \"http://books.toscrape.com/\""
   ]
  },
  {
   "cell_type": "code",
   "execution_count": 22,
   "metadata": {},
   "outputs": [],
   "source": [
    "# Get request from site\n",
    "driver.get(site)"
   ]
  },
  {
   "cell_type": "code",
   "execution_count": 23,
   "metadata": {},
   "outputs": [],
   "source": [
    "# Empty list for urls\n",
    "urls = []"
   ]
  },
  {
   "cell_type": "code",
   "execution_count": 24,
   "metadata": {},
   "outputs": [],
   "source": [
    "# Get product page urls from clickable image links\n",
    "url_elements = driver.find_elements(By.XPATH, \"//article/div/a[contains(@href, 'catalogue')]\")"
   ]
  },
  {
   "cell_type": "code",
   "execution_count": 25,
   "metadata": {},
   "outputs": [
    {
     "name": "stdout",
     "output_type": "stream",
     "text": [
      "20\n"
     ]
    }
   ],
   "source": [
    "# Store hyperlink attributes in list\n",
    "for url in url_elements:\n",
    "    url = url.get_attribute('href')\n",
    "    urls.append(url)\n",
    "\n",
    "# Check\n",
    "print(len(urls))"
   ]
  },
  {
   "cell_type": "code",
   "execution_count": 26,
   "metadata": {},
   "outputs": [
    {
     "name": "stdout",
     "output_type": "stream",
     "text": [
      "Titles: 20\n",
      "Prices: 20\n",
      "Availability: 20\n"
     ]
    }
   ],
   "source": [
    "# Get information from each product page\n",
    "# Store the attributes in their respective lists\n",
    "\n",
    "titles = []\n",
    "prices = []\n",
    "availability = []\n",
    "\n",
    "for url in urls:\n",
    "    driver.get(url)\n",
    "\n",
    "    title_element = driver.find_element(By.XPATH, \"//article//div/h1\")\n",
    "    titles.append(title_element.text)\n",
    "\n",
    "    price_element = driver.find_element(By.XPATH, \"//article/table/tbody/tr[th[text()='Price (incl. tax)']]/td\")\n",
    "    prices.append(price_element.text)\n",
    "\n",
    "    availability_element = driver.find_element(By.XPATH, \"//article/table/tbody/tr[th[text()='Availability']]/td\")\n",
    "    availability.append(availability_element.text)\n",
    "\n",
    "    time.sleep(np.random.uniform(2,4))\n",
    "\n",
    "# Quit driver\n",
    "driver.quit()\n",
    "\n",
    "# Check that all lists are the same length\n",
    "print(f\"Titles: {len(titles)}\\nPrices: {len(prices)}\\nAvailability: {len(availability)}\")"
   ]
  },
  {
   "cell_type": "code",
   "execution_count": 43,
   "metadata": {},
   "outputs": [
    {
     "data": {
      "text/html": [
       "<div>\n",
       "<style scoped>\n",
       "    .dataframe tbody tr th:only-of-type {\n",
       "        vertical-align: middle;\n",
       "    }\n",
       "\n",
       "    .dataframe tbody tr th {\n",
       "        vertical-align: top;\n",
       "    }\n",
       "\n",
       "    .dataframe thead th {\n",
       "        text-align: right;\n",
       "    }\n",
       "</style>\n",
       "<table border=\"1\" class=\"dataframe\">\n",
       "  <thead>\n",
       "    <tr style=\"text-align: right;\">\n",
       "      <th></th>\n",
       "      <th>Title</th>\n",
       "      <th>Price</th>\n",
       "      <th>Availability</th>\n",
       "    </tr>\n",
       "  </thead>\n",
       "  <tbody>\n",
       "    <tr>\n",
       "      <th>0</th>\n",
       "      <td>A Light in the Attic</td>\n",
       "      <td>£51.77</td>\n",
       "      <td>In stock (22 available)</td>\n",
       "    </tr>\n",
       "    <tr>\n",
       "      <th>1</th>\n",
       "      <td>Tipping the Velvet</td>\n",
       "      <td>£53.74</td>\n",
       "      <td>In stock (20 available)</td>\n",
       "    </tr>\n",
       "    <tr>\n",
       "      <th>2</th>\n",
       "      <td>Soumission</td>\n",
       "      <td>£50.10</td>\n",
       "      <td>In stock (20 available)</td>\n",
       "    </tr>\n",
       "    <tr>\n",
       "      <th>3</th>\n",
       "      <td>Sharp Objects</td>\n",
       "      <td>£47.82</td>\n",
       "      <td>In stock (20 available)</td>\n",
       "    </tr>\n",
       "    <tr>\n",
       "      <th>4</th>\n",
       "      <td>Sapiens: A Brief History of Humankind</td>\n",
       "      <td>£54.23</td>\n",
       "      <td>In stock (20 available)</td>\n",
       "    </tr>\n",
       "  </tbody>\n",
       "</table>\n",
       "</div>"
      ],
      "text/plain": [
       "                                   Title   Price             Availability\n",
       "0                   A Light in the Attic  £51.77  In stock (22 available)\n",
       "1                     Tipping the Velvet  £53.74  In stock (20 available)\n",
       "2                             Soumission  £50.10  In stock (20 available)\n",
       "3                          Sharp Objects  £47.82  In stock (20 available)\n",
       "4  Sapiens: A Brief History of Humankind  £54.23  In stock (20 available)"
      ]
     },
     "execution_count": 43,
     "metadata": {},
     "output_type": "execute_result"
    }
   ],
   "source": [
    "# Store data in data frame\n",
    "df = pd.DataFrame({\n",
    "    'Title': titles,\n",
    "    'Price': prices,\n",
    "    'Availability': availability\n",
    "})\n",
    "\n",
    "df.head()"
   ]
  },
  {
   "cell_type": "code",
   "execution_count": 44,
   "metadata": {},
   "outputs": [
    {
     "name": "stdout",
     "output_type": "stream",
     "text": [
      "<class 'pandas.core.frame.DataFrame'>\n",
      "RangeIndex: 20 entries, 0 to 19\n",
      "Data columns (total 3 columns):\n",
      " #   Column        Non-Null Count  Dtype  \n",
      "---  ------        --------------  -----  \n",
      " 0   Title         20 non-null     object \n",
      " 1   Price         20 non-null     float64\n",
      " 2   Availability  20 non-null     uint8  \n",
      "dtypes: float64(1), object(1), uint8(1)\n",
      "memory usage: 472.0+ bytes\n"
     ]
    }
   ],
   "source": [
    "# Clean the data and change types\n",
    "df['Price'] = df['Price'].str[1:]\n",
    "df['Price'] = pd.to_numeric(df['Price'])\n",
    "\n",
    "df['Availability'] = df['Availability'].str.replace(r'[^\\d]','',regex=True)\n",
    "df['Availability'] = pd.to_numeric(df['Availability'])\n",
    "df['Availability'] = df['Availability'].astype('uint8') # Saving memory\n",
    "\n",
    "# Checking\n",
    "df.info()"
   ]
  },
  {
   "cell_type": "code",
   "execution_count": 46,
   "metadata": {},
   "outputs": [
    {
     "data": {
      "text/html": [
       "<div>\n",
       "<style scoped>\n",
       "    .dataframe tbody tr th:only-of-type {\n",
       "        vertical-align: middle;\n",
       "    }\n",
       "\n",
       "    .dataframe tbody tr th {\n",
       "        vertical-align: top;\n",
       "    }\n",
       "\n",
       "    .dataframe thead th {\n",
       "        text-align: right;\n",
       "    }\n",
       "</style>\n",
       "<table border=\"1\" class=\"dataframe\">\n",
       "  <thead>\n",
       "    <tr style=\"text-align: right;\">\n",
       "      <th></th>\n",
       "      <th>Title</th>\n",
       "      <th>Price</th>\n",
       "      <th>Availability</th>\n",
       "    </tr>\n",
       "  </thead>\n",
       "  <tbody>\n",
       "    <tr>\n",
       "      <th>0</th>\n",
       "      <td>A Light in the Attic</td>\n",
       "      <td>51.77</td>\n",
       "      <td>22</td>\n",
       "    </tr>\n",
       "    <tr>\n",
       "      <th>1</th>\n",
       "      <td>Tipping the Velvet</td>\n",
       "      <td>53.74</td>\n",
       "      <td>20</td>\n",
       "    </tr>\n",
       "    <tr>\n",
       "      <th>2</th>\n",
       "      <td>Soumission</td>\n",
       "      <td>50.10</td>\n",
       "      <td>20</td>\n",
       "    </tr>\n",
       "    <tr>\n",
       "      <th>3</th>\n",
       "      <td>Sharp Objects</td>\n",
       "      <td>47.82</td>\n",
       "      <td>20</td>\n",
       "    </tr>\n",
       "    <tr>\n",
       "      <th>4</th>\n",
       "      <td>Sapiens: A Brief History of Humankind</td>\n",
       "      <td>54.23</td>\n",
       "      <td>20</td>\n",
       "    </tr>\n",
       "  </tbody>\n",
       "</table>\n",
       "</div>"
      ],
      "text/plain": [
       "                                   Title  Price  Availability\n",
       "0                   A Light in the Attic  51.77            22\n",
       "1                     Tipping the Velvet  53.74            20\n",
       "2                             Soumission  50.10            20\n",
       "3                          Sharp Objects  47.82            20\n",
       "4  Sapiens: A Brief History of Humankind  54.23            20"
      ]
     },
     "execution_count": 46,
     "metadata": {},
     "output_type": "execute_result"
    }
   ],
   "source": [
    "df.head()"
   ]
  },
  {
   "cell_type": "code",
   "execution_count": 49,
   "metadata": {},
   "outputs": [
    {
     "data": {
      "image/png": "[encoded data removed]",
      "text/plain": [
       "<Figure size 640x480 with 1 Axes>"
      ]
     },
     "metadata": {},
     "output_type": "display_data"
    }
   ],
   "source": [
    "# Plot the distribution of prices\n",
    "sns.histplot(data=df, x=df['Price'], kde=True, color='black', label='Price distribution')\n",
    "plt.title(\"Distribution of Books to Scrape Prices (Sample)\")\n",
    "plt.xlabel(\"Price\")\n",
    "plt.ylabel(\"Frequency\")\n",
    "plt.legend()\n",
    "plt.tight_layout()\n",
    "plt.show()"
   ]
  },
  {
   "cell_type": "markdown",
   "metadata": {},
   "source": [
    "# About Me:\n",
    "***\n",
    "\n",
    "I'm Chris Woodward. I am currently seeking opportunities in Florida for data analysis/data science. I am very open to remote work and willing to relocate to another area in Florida under the right circumstances. My salary goal is $70,000 (not including benefits).\n",
    "\n",
    "You can see all my efforts for continuous learning on my LinkedIn.\n",
    "\n",
    "[My LinkedIn Profile](https://www.linkedin.com/in/christopher-woodward-b24b43316/)"
   ]
  }
 ],
 "metadata": {
  "kernelspec": {
   "display_name": "Python 3",
   "language": "python",
   "name": "python3"
  },
  "language_info": {
   "codemirror_mode": {
    "name": "ipython",
    "version": 3
   },
   "file_extension": ".py",
   "mimetype": "text/x-python",
   "name": "python",
   "nbconvert_exporter": "python",
   "pygments_lexer": "ipython3",
   "version": "3.11.9"
  }
 },
 "nbformat": 4,
 "nbformat_minor": 2
}
